{
 "cells": [
  {
   "cell_type": "code",
   "execution_count": null,
   "id": "f1ab7083",
   "metadata": {},
   "outputs": [],
   "source": [
    "import pandas as pd\n",
    "import numpy as np\n",
    "import matplotlib.pyplot as plt\n",
    "import seaborn as sns"
   ]
  },
  {
   "cell_type": "code",
   "execution_count": null,
   "id": "874d9c83",
   "metadata": {},
   "outputs": [],
   "source": [
    "pd.options.display.max_columns\n",
    "df = pd.read_csv('df_merged_renamed_droped_sorted_2rs.csv')\n",
    "df = df.drop('Unnamed: 0', axis=1)\n",
    "df"
   ]
  },
  {
   "cell_type": "code",
   "execution_count": null,
   "id": "a72d5af2",
   "metadata": {},
   "outputs": [],
   "source": [
    "#Acontinuacion se quieren agregar una serie de columnas al dataframe que añadiran valor a los datos.\n",
    "#Mas adelante hablaremos de dichas columnas, por ahora vamos a dividir nuestro dataframe por temporadas,\n",
    "#mas adelante los uniremos de nuevo para trabajar con uno solo\n",
    "df_rs_03 = df.query(\"GAME_DATE >= '2003-10-28' and GAME_DATE <='2004-04-14'\")\n",
    "df_rs_04 = df.query(\"GAME_DATE >= '2004-11-02' and GAME_DATE <='2005-04-20'\")\n",
    "df_rs_05 = df.query(\"GAME_DATE >= '2005-11-01' and GAME_DATE <='2006-04-19'\")\n",
    "df_rs_06 = df.query(\"GAME_DATE >= '2006-10-31' and GAME_DATE <='2007-04-18'\")\n",
    "df_rs_07 = df.query(\"GAME_DATE >= '2007-10-30' and GAME_DATE <='2008-04-16'\")\n",
    "df_rs_08 = df.query(\"GAME_DATE >= '2008-10-28' and GAME_DATE <='2009-04-16'\")\n",
    "df_rs_09 = df.query(\"GAME_DATE >= '2009-10-27' and GAME_DATE <='2010-04-14'\")\n",
    "df_rs_10 = df.query(\"GAME_DATE >= '2010-10-26' and GAME_DATE <='2011-04-13'\")\n",
    "df_rs_11 = df.query(\"GAME_DATE >= '2011-12-25' and GAME_DATE <='2012-04-26'\")\n",
    "df_rs_12 = df.query(\"GAME_DATE >= '2012-10-30' and GAME_DATE <='2013-04-17'\")\n",
    "df_rs_13 = df.query(\"GAME_DATE >= '2013-10-29' and GAME_DATE <='2014-04-16'\")\n",
    "df_rs_14 = df.query(\"GAME_DATE >= '2014-10-28' and GAME_DATE <='2015-04-15'\")\n",
    "df_rs_15 = df.query(\"GAME_DATE >= '2015-10-27' and GAME_DATE <='2016-04-13'\")\n",
    "df_rs_16 = df.query(\"GAME_DATE >= '2016-10-25' and GAME_DATE <='2017-04-12'\")\n",
    "df_rs_17 = df.query(\"GAME_DATE >= '2017-10-17' and GAME_DATE <='2018-04-11'\")\n",
    "df_rs_18 = df.query(\"GAME_DATE >= '2018-10-16' and GAME_DATE <='2019-04-10'\")"
   ]
  },
  {
   "cell_type": "code",
   "execution_count": null,
   "id": "102a31ab",
   "metadata": {},
   "outputs": [],
   "source": [
    "game_ids_03 = list(df_rs_03['GAME_ID'].values)\n",
    "game_ids_04 = list(df_rs_04['GAME_ID'].values)\n",
    "game_ids_05 = list(df_rs_05['GAME_ID'].values)\n",
    "game_ids_06 = list(df_rs_06['GAME_ID'].values)\n",
    "game_ids_07 = list(df_rs_07['GAME_ID'].values)\n",
    "game_ids_08 = list(df_rs_08['GAME_ID'].values)\n",
    "game_ids_09 = list(df_rs_09['GAME_ID'].values)\n",
    "game_ids_10 = list(df_rs_10['GAME_ID'].values)\n",
    "game_ids_11 = list(df_rs_11['GAME_ID'].values)\n",
    "game_ids_12 = list(df_rs_12['GAME_ID'].values)\n",
    "game_ids_13 = list(df_rs_13['GAME_ID'].values)\n",
    "game_ids_14 = list(df_rs_14['GAME_ID'].values)\n",
    "game_ids_15 = list(df_rs_15['GAME_ID'].values)\n",
    "game_ids_16 = list(df_rs_16['GAME_ID'].values)\n",
    "game_ids_17 = list(df_rs_17['GAME_ID'].values)\n",
    "game_ids_18 = list(df_rs_18['GAME_ID'].values)\n",
    "game_ids_all = [game_ids_03, game_ids_04, game_ids_05, game_ids_06, game_ids_07,  game_ids_08, game_ids_09, \\\n",
    "                game_ids_10, game_ids_11, game_ids_12, game_ids_13, game_ids_14, game_ids_15, game_ids_16, \\\n",
    "                game_ids_17, game_ids_18, ]"
   ]
  },
  {
   "cell_type": "code",
   "execution_count": null,
   "id": "a0f1e23e",
   "metadata": {},
   "outputs": [],
   "source": [
    "#1) Añadimos todas las columnas\n",
    "df['PERCENT_VIC_UNITL_THIS_GAME_HOME_TEAM'] = np.nan\n",
    "df['PERCENT_VIC_UNITL_THIS_GAME_VISITOR_TEAM'] = np.nan\n",
    "df['PERCENT_VIC_LAST5_GAMES_HOME_TEAM'] = np.nan\n",
    "df['PERCENT_VIC_LAST5_GAMES_VISITOR_TEAM'] = np.nan\n",
    "df['PERCENT_VIC_LAST10_GAMES_HOME_TEAM'] = np.nan\n",
    "df['PERCENT_VIC_LAST10_GAMES_VISITOR_TEAM'] = np.nan\n",
    "df['AVG_POINTS_UNTIL_THIS_GAME_HOME_TEAM'] = np.nan\n",
    "df['AVG_POINTS_UNTIL_THIS_GAME_VISITOR_TEAM'] = np.nan\n",
    "df['AVG_POINTS_LAST5_HOME_TEAM'] = np.nan\n",
    "df['AVG_POINTS_LAST5_VISITOR_TEAM'] = np.nan\n",
    "df['AVG_POINTS_LAST10_HOME_TEAM'] = np.nan\n",
    "df['AVG_POINTS_LAST10_VISITOR_TEAM'] = np.nan\n",
    "df['AVG_FGPERCENT_UNTIL_THIS_GAME_HOME_TEAM'] = np.nan\n",
    "df['AVG_FGPERCENT_UNTIL_THIS_GAME_VISITOR_TEAM'] = np.nan\n",
    "df['AVG_FGPERCENT_LAST5_HOME_TEAM'] = np.nan\n",
    "df['AVG_FGPERCENT_LAST5_VISITOR_TEAM'] = np.nan\n",
    "df['AVG_FGPERCENT_LAST10_HOME_TEAM'] = np.nan\n",
    "df['AVG_FGPERCENT_LAST10_VISITOR_TEAM'] = np.nan\n",
    "df['AVG_FG3PCT_UNTIL_THIS_GAME_HOME_TEAM'] = np.nan\n",
    "df['AVG_FG3PCT_UNTIL_THIS_GAME_VISITOR_TEAM'] = np.nan\n",
    "df['AVG_FG3PCT_LAST5_HOME_TEAM'] = np.nan\n",
    "df['AVG_FG3PCT_LAST5_VISITOR_TEAM'] = np.nan\n",
    "df['AVG_FG3PCT_LAST10_HOME_TEAM'] = np.nan\n",
    "df['AVG_FG3PCT_LAST10_VISITOR_TEAM'] = np.nan"
   ]
  },
  {
   "cell_type": "code",
   "execution_count": null,
   "id": "b17161e9",
   "metadata": {},
   "outputs": [],
   "source": [
    "#2) Funciones -> Tengo que hacer un modulo con ellas para poder acceder a ellas desde distintos notebooks"
   ]
  },
  {
   "cell_type": "code",
   "execution_count": null,
   "id": "98323b00",
   "metadata": {},
   "outputs": [],
   "source": [
    "#3) Creamos los datos\n",
    "porcentajes_victorias_team_home_rs_df = list(map(porcentaje_victorias_home_team, game_ids))\n",
    "porcentajes_victorias_team_visitor_rs_df = list(map(porcentaje_victorias_visitor_team, game_ids))\n",
    "porcentajes_victorias_last5_team_home_rs_df = list(map(porcentaje_victorias_last5_home_team, game_ids))\n",
    "porcentajes_victorias_last5_team_visitor_rs_df = list(map(porcentaje_victorias_last5_visitor_team, game_ids))\n",
    "porcentajes_victorias_last10_team_home_rs_df = list(map(porcentaje_victorias_last10_home_team, game_ids))\n",
    "porcentajes_victorias_last10_team_visitor_rs_df = list(map(porcentaje_victorias_last10_visitor_team, game_ids))\n",
    "avg_points_team_home_rs_df = list(map(avg_points_home_team, game_ids))\n",
    "avg_points_team_visitor_rs_df = list(map(avg_points_visitor_team, game_ids))\n",
    "avg_points_last5_team_home_rs_df = list(map(avg_points_last5_home_team, game_ids))\n",
    "avg_points_last5_team_visitor_rs_df = list(map(avg_points_last5_visitor_team, game_ids))\n",
    "avg_points_last10_team_home_rs_df = list(map(avg_points_last10_home_team, game_ids))\n",
    "avg_points_last10_team_visitor_rs_df = list(map(avg_points_last10_visitor_team, game_ids))\n",
    "avg_fg_team_home_rs_df = list(map(avg_fg_home_team, game_ids))\n",
    "avg_fg_team_visitor_rs_df = list(map(avg_fg_visitor_team, game_ids))\n",
    "avg_fg5_team_home_rs_df = list(map(avg_fg_last5_home_team, game_ids))\n",
    "avg_fg5_team_visitor_rs_df = list(map(avg_fg_last5_visitor_team, game_ids))\n",
    "avg_fg10_team_home_rs_df = list(map(avg_fg_last10_home_team, game_ids))\n",
    "avg_fg10_team_visitor_rs_df = list(map(avg_fg_last10_visitor_team, game_ids))\n",
    "avg_fg3_team_home_rs_df = list(map(avg_fg3_home_team, game_ids))\n",
    "avg_fg3_team_visitor_rs_df = list(map(avg_fg3_visitor_team, game_ids))\n",
    "avg_fg35_team_home_rs_df = list(map(avg_fg3_last5_home_team, game_ids))\n",
    "avg_fg35_team_visitor_rs_df = list(map(avg_fg3_last5_visitor_team, game_ids))\n",
    "avg_fg310_team_home_rs_df = list(map(avg_fg3_last10_home_team, game_ids))\n",
    "avg_fg310_team_visitor_rs_df = list(map(avg_fg3_last10_visitor_team, game_ids))\n"
   ]
  },
  {
   "cell_type": "code",
   "execution_count": null,
   "id": "f3409011",
   "metadata": {},
   "outputs": [],
   "source": [
    "#4) Introducimos los datos\n",
    "df['PERCENT_VIC_UNITL_THIS_GAME_HOME_TEAM'] = pd.Series(porcentajes_victorias_team_home_rs_df)\n",
    "df['PERCENT_VIC_UNITL_THIS_GAME_VISITOR_TEAM'] = pd.Series(porcentajes_victorias_team_visitor_rs_df)\n",
    "df['PERCENT_VIC_LAST5_GAMES_HOME_TEAM'] = pd.Series(porcentajes_victorias_last5_team_home_rs_df)\n",
    "df['PERCENT_VIC_LAST5_GAMES_VISITOR_TEAM'] = pd.Series(porcentajes_victorias_last5_team_visitor_rs_df)\n",
    "df['PERCENT_VIC_LAST10_GAMES_HOME_TEAM'] = pd.Series(porcentajes_victorias_last10_team_home_rs_df)\n",
    "df['PERCENT_VIC_LAST10_GAMES_VISITOR_TEAM'] = pd.Series(porcentajes_victorias_last10_team_visitor_rs_df)\n",
    "df['AVG_POINTS_UNTIL_THIS_GAME_HOME_TEAM'] = pd.Series(avg_points_team_home_rs_df)\n",
    "df['AVG_POINTS_UNTIL_THIS_GAME_VISITOR_TEAM'] = pd.Series(avg_points_team_visitor_rs_df)\n",
    "df['AVG_POINTS_LAST5_HOME_TEAM'] = pd.Series(avg_points_last5_team_home_rs_df)\n",
    "df['AVG_POINTS_LAST5_VISITOR_TEAM'] = pd.Series(avg_points_last5_team_visitor_rs_df)\n",
    "df['AVG_POINTS_LAST10_HOME_TEAM'] = pd.Series(avg_points_last10_team_home_rs_df)\n",
    "df['AVG_POINTS_LAST10_VISITOR_TEAM'] = pd.Series(avg_points_last10_team_visitor_rs_df)\n",
    "df['AVG_FGPERCENT_UNTIL_THIS_GAME_HOME_TEAM'] = pd.Series(avg_fg_team_home_rs_df)\n",
    "df['AVG_FGPERCENT_UNTIL_THIS_GAME_VISITOR_TEAM'] = pd.Series(avg_fg_team_visitor_rs_df)\n",
    "df['AVG_FGPERCENT_LAST5_HOME_TEAM'] = pd.Series(avg_fg5_team_home_rs_df)\n",
    "df['AVG_FGPERCENT_LAST5_VISITOR_TEAM'] = pd.Series(avg_fg5_team_visitor_rs_df)\n",
    "df['AVG_FGPERCENT_LAST10_HOME_TEAM'] = pd.Series(avg_fg10_team_home_rs_df)\n",
    "df['AVG_FGPERCENT_LAST10_VISITOR_TEAM'] = pd.Series(avg_fg10_team_visitor_rs_df)\n",
    "df['AVG_FG3PCT_UNTIL_THIS_GAME_HOME_TEAM'] = pd.Series(avg_fg3_team_home_rs_df)\n",
    "df['AVG_FG3PCT_UNTIL_THIS_GAME_VISITOR_TEAM'] = pd.Series(avg_fg3_team_visitor_rs_df)\n",
    "df['AVG_FG3PCT_LAST5_HOME_TEAM'] = pd.Series(avg_fg35_team_home_rs_df)\n",
    "df['AVG_FG3PCT_LAST5_VISITOR_TEAM'] = pd.Series(avg_fg35_team_visitor_rs_df)\n",
    "df['AVG_FG3PCT_LAST10_HOME_TEAM'] = pd.Series(avg_fg310_team_home_rs_df)\n",
    "df['AVG_FG3PCT_LAST10_VISITOR_TEAM'] = pd.Series(avg_fg310_team_visitor_rs_df)"
   ]
  }
 ],
 "metadata": {
  "kernelspec": {
   "display_name": "Python 3 (ipykernel)",
   "language": "python",
   "name": "python3"
  },
  "language_info": {
   "codemirror_mode": {
    "name": "ipython",
    "version": 3
   },
   "file_extension": ".py",
   "mimetype": "text/x-python",
   "name": "python",
   "nbconvert_exporter": "python",
   "pygments_lexer": "ipython3",
   "version": "3.8.2"
  }
 },
 "nbformat": 4,
 "nbformat_minor": 5
}
